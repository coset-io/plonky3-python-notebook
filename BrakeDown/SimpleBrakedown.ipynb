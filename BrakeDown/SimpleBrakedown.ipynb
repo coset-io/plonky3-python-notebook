{
 "cells": [
  {
   "cell_type": "code",
   "execution_count": 1,
   "id": "3972471f-ccb3-4ef1-bce6-86abc1f8711f",
   "metadata": {},
   "outputs": [],
   "source": [
    "import random\n",
    "import numpy as np\n",
    "\n",
    "prime = 47  # The order of our Finit Field \n",
    "\n",
    "# Our Polynomial is 3 * x^0 + 7 * x^1 + 11 * x^2 + 5 * x^3 ....\n",
    "coefficients = [3, 7, 11, 5, 2, 8, 4, 9, 1]\n",
    "message_length = 3 #  len(coefficients)**0.5\n",
    "code_word_length = message_length * 2\n",
    "test_message = coefficients[:message_length]\n",
    "\n",
    "# The number of columns need to be checked\n",
    "sec_num = 2\n",
    "\n",
    "# The point we want to evaluate\n",
    "open_point = 5"
   ]
  },
  {
   "cell_type": "markdown",
   "id": "7f1c4436-87de-4db0-bf08-d7b13ce4f232",
   "metadata": {},
   "source": [
    "# Utils"
   ]
  },
  {
   "cell_type": "code",
   "execution_count": 2,
   "id": "caf401f0-b211-470b-824c-5f9c97baec87",
   "metadata": {},
   "outputs": [],
   "source": [
    "def generate_random_polynomial(p, deg):\n",
    "    n = deg + 1\n",
    "    if int(n**0.5)**2 != n:\n",
    "        raise ValueError(f\"{n} is not a perfect square\")\n",
    "    return [random.randint(0, p - 1) for _ in range(n)]\n",
    "\n",
    "def add_polynomials(poly1, poly2, p):\n",
    "    max_len = max(len(poly1), len(poly2))\n",
    "    poly1 += [0] * (max_len - len(poly1))\n",
    "    poly2 += [0] * (max_len - len(poly2))\n",
    "    return [(poly1[i] + poly2[i]) % p for i in range(max_len)]\n",
    "\n",
    "def multiply_polynomials(poly1, poly2, p):\n",
    "    result = [0] * (len(poly1) + len(poly2) - 1)\n",
    "    for i in range(len(poly1)):\n",
    "        for j in range(len(poly2)):\n",
    "            result[i + j] = (result[i + j] + poly1[i] * poly2[j]) % p\n",
    "    return result\n",
    "\n",
    "def find_generator(p):\n",
    "    for g in range(2, p):\n",
    "        seen = {pow(g, i, p) for i in range(p - 1)}\n",
    "        if len(seen) == p - 1:\n",
    "            return g\n",
    "    raise ValueError(\"No generator found\")\n",
    "\n",
    "def polynomial_to_string(coefficients):\n",
    "    terms = [\n",
    "        f\"{coef}\" if i == 0 else f\"{coef}x^{i}\"\n",
    "        for i, coef in enumerate(coefficients) if coef != 0\n",
    "    ]\n",
    "    return \" + \".join(terms)\n",
    "\n",
    "def evaluate_polynomial(coefficients, x, p):\n",
    "    result = 0\n",
    "    for i, coef in enumerate(coefficients):\n",
    "        result = (result + coef * pow(x, i, p)) % p\n",
    "    return result"
   ]
  },
  {
   "cell_type": "markdown",
   "id": "b543684e-7ecd-4b83-b30e-56d72b6d6786",
   "metadata": {},
   "source": [
    "## RSCODE base on lagrange interpolate"
   ]
  },
  {
   "cell_type": "code",
   "execution_count": 3,
   "id": "4ce566f0-0dab-4aff-8c3d-df15f780f450",
   "metadata": {},
   "outputs": [],
   "source": [
    "def lagrange_basis(points, j, p):\n",
    "    \"\"\"\n",
    "    Computes the Lagrange basis function L_j(x).\n",
    "    :param points: List of interpolation points (x, y)\n",
    "    :param j: Index of the current basis function\n",
    "    :param p: Prime number defining the finite field\n",
    "    :return: Coefficients of L_j(x) (from lowest to highest degree)\n",
    "    \"\"\"\n",
    "    x_j = points[j][0]\n",
    "    numerator = [1]  # Initialize numerator\n",
    "    denominator = 1  # Initialize denominator\n",
    "\n",
    "    for i, (x_i, _) in enumerate(points):\n",
    "        if i != j:\n",
    "            numerator = multiply_polynomials(numerator, [-x_i % p, 1], p)\n",
    "            denominator = (denominator * (x_j - x_i)) % p\n",
    "\n",
    "    denominator_inv = pow(denominator, -1, p)  # Modular inverse of denominator\n",
    "    return [(coeff * denominator_inv) % p for coeff in numerator]\n",
    "\n",
    "def interpolate_polynomial(points, p):\n",
    "    result = [0] * len(points)\n",
    "    for j, (_, y_j) in enumerate(points):\n",
    "        basis = lagrange_basis(points, j, p)\n",
    "        scaled_basis = [(coeff * y_j) % p for coeff in basis]\n",
    "        result = add_polynomials(result, scaled_basis, p)\n",
    "    return result\n",
    "\n",
    "def rs_encode(message, n, p):\n",
    "    \"\"\"\n",
    "    Reed-Solomon encoding.\n",
    "    :param n: Codeword length\n",
    "    :return: Codeword\n",
    "    \"\"\"\n",
    "    k = len(message)\n",
    "    if n < k:\n",
    "        raise ValueError(\"Codeword length n must be greater than or equal to message length k\")\n",
    "    \n",
    "    g = find_generator(p)\n",
    "    points = [(pow(g, i, p), message[i]) for i in range(k)]\n",
    "    coefficients = interpolate_polynomial(points, p)\n",
    "\n",
    "    for x, y in points:\n",
    "        assert evaluate_polynomial(coefficients, x, p) == y, f\"Interpolation error: x={x}, y={y}\"\n",
    "\n",
    "    return [evaluate_polynomial(coefficients, pow(g, i, p), p) for i in range(n)]\n",
    "\n",
    "def rs_decode(codeword, m):\n",
    "    \"\"\"\n",
    "    In our case the rscode issystematic,\n",
    "    meaning for any message m, the first m symbols of recode(m) are the entries of m itself.\n",
    "    So we return the first m elements in codeword\n",
    "    \"\"\"\n",
    "    return codeword[:m]"
   ]
  },
  {
   "cell_type": "code",
   "execution_count": 4,
   "id": "8756658a-29b2-4b53-8823-d189317fb521",
   "metadata": {},
   "outputs": [
    {
     "name": "stdout",
     "output_type": "stream",
     "text": [
      "Raw messages: [3, 7, 11]\n",
      "Reed-Solomon Codeword: [3, 7, 11, 7, 45, 40]\n"
     ]
    }
   ],
   "source": [
    "# Simple test\n",
    "codeword = rs_encode(test_message, code_word_length, prime)\n",
    "\n",
    "print(f\"Raw messages: {test_message}\")\n",
    "print(f\"Reed-Solomon Codeword: {codeword}\")\n",
    "\n",
    "assert test_message == rs_decode(codeword, message_length)"
   ]
  },
  {
   "cell_type": "markdown",
   "id": "c2650569-2315-4dd3-b85e-21a15df506d0",
   "metadata": {},
   "source": [
    "# Brakedown"
   ]
  },
  {
   "cell_type": "markdown",
   "id": "50bdad6d-7d99-4a91-bc1c-65d90461c0eb",
   "metadata": {},
   "source": [
    "The key point of Brakedown is identifying Tensor Product Structure in Polynomial Evaluation Queries"
   ]
  },
  {
   "cell_type": "markdown",
   "id": "47da307d",
   "metadata": {},
   "source": [
    "## Tensor Product Structure\n",
    "\n",
    "Let q be a degree (n-1) univariate polynomial over field  $\\mathbb{F}p$  that the prover wishes to commit to, and let  u  denote the vector of coefficients of  q . Then, we can express evaluations of  q  as inner products of  u  with appropriate “evaluation vectors”. Specifically, if  $q(X) = \\sum{i=0}^{n-1} u_i X^i$ , then for  $z \\in \\mathbb{F}p$ ,  $q(z) = \\langle u$, $y \\rangle$  where  $y = (1, z, z^2, \\ldots, z^{n-1})$  consists of powers of  z , and  $\\langle u, y \\rangle = \\sum{i=0}^{n-1} u_i v_i$  denotes the inner product of  u  and  y .\n",
    "\n",
    "Moreover, the vector y has a tensor-product structure in the following sense. Let us assume that $n = m^2$  is a perfect square, and define  $a, b \\in \\mathbb{F}^m$  as  $a := (1, z, z^2, \\ldots, z^{m-1})$  and  $b := (1, z^m, z^{2m}, \\ldots, z^{m(m-1)})$ . \n",
    "\n",
    "If we view  y  as an  $m \\times m$  matrix with entries indexed as  $(y_{i,j}, i = 1, \\ldots, m, j = 1, \\ldots, m)$ , then  y  is simply the outer product  $b \\cdot a^T$  of  a  and  b . That is,  $y_{i,j} = z^{i \\cdot m + j} = b_i \\cdot a_j$  for all  $0 \\leq i, j \\leq m-1$ . Equivalently, we can write  $q(z)$  as the vector-matrix-vector product  $b^T \\cdot u \\cdot a$ . \n",
    "\n",
    "The following `tensor_form` function is used to generate the tensorform of vector y"
   ]
  },
  {
   "cell_type": "markdown",
   "id": "4e05d47f-fdbd-44b2-9aa2-3fd1945299b5",
   "metadata": {},
   "source": [
    "## Public function"
   ]
  },
  {
   "cell_type": "code",
   "execution_count": 5,
   "id": "dfb5ed67-88d7-4a7d-a2fc-a95022e94a34",
   "metadata": {},
   "outputs": [],
   "source": [
    "def tensor_form(z, deg, p):\n",
    "    \"\"\"\n",
    "    Generates the tensor form of z based on the polynomial degree.\n",
    "    :return: Vectors a and b representing the tensor form\n",
    "    \"\"\"\n",
    "    m = int((deg + 1)**0.5)\n",
    "    a = [pow(z, i, p) for i in range(m)]  # a = (1, z, z^2, ..., z^(m-1))\n",
    "    b = [pow(z, m * i, p) for i in range(m)]  # b = (1, z^m, z^(2m), ..., z^(m(m-1)))\n",
    "    return a, b"
   ]
  },
  {
   "cell_type": "markdown",
   "id": "41dd598d-1de9-4171-9528-f3661499bb63",
   "metadata": {},
   "source": [
    "## Prover compoments"
   ]
  },
  {
   "cell_type": "code",
   "execution_count": 13,
   "id": "e5c2ce06-cc4c-4acb-95a7-6b6524cb0006",
   "metadata": {},
   "outputs": [],
   "source": [
    "def coefficient_to_rscode_matrix(coefficients, m, n, p):\n",
    "    \"\"\"\n",
    "    1. Converts coefficients to matrix form.\n",
    "    2. Encodes the matrix using Reed-Solomon codes.\n",
    "    3. Prover claims the result (honest).\n",
    "    :param coefficients: Polynomial coefficients (low to high degree)\n",
    "    :param m: Sqrt of (deg(poly) + 1)\n",
    "    :param n: encoded codeword length\n",
    "    :param p: Prime number defining the finite field Fp\n",
    "    :return: Matrix M\n",
    "    \"\"\"\n",
    "    degree = len(coefficients)\n",
    "    if degree % m != 0:\n",
    "        raise ValueError(f\"Length of coefficients {degree} must be divisible by number of rows {m}\")\n",
    "\n",
    "    row_size = degree // m  # Size of each sub-polynomial\n",
    "\n",
    "    # Split coefficients into m sub-polynomials\n",
    "    sub_polynomials = [\n",
    "        coefficients[i * row_size:(i + 1) * row_size]\n",
    "        for i in range(m)\n",
    "    ]\n",
    "\n",
    "    # Encode each sub-polynomial and construct matrix M\n",
    "    matrix = []\n",
    "    for sub_poly in sub_polynomials:\n",
    "        codeword = rs_encode(sub_poly, n, p)\n",
    "        matrix.append(codeword)\n",
    "\n",
    "    return np.array(matrix)\n",
    "\n",
    "def compute_w(b, M, p):\n",
    "    \"\"\"\n",
    "    Computes w = b^T * M, where b is a row vector and M is a matrix.\n",
    "    :param b: Row vector (can be part of the tensor form or a randomly generated vector by verifier)\n",
    "    :param M: Input matrix\n",
    "    :param p: Prime number defining the finite field\n",
    "    :return: Resultant vector w after modular arithmetic\n",
    "    \"\"\"\n",
    "    return [(sum(b[i] * M[i][j] for i in range(len(b))) % p) for j in range(M.shape[1])]\n",
    "\n",
    "def decode_w(w):\n",
    "    \"\"\"\n",
    "    Decodes the vector w.\n",
    "    :param w: Vector w\n",
    "    :return: Decoded message\n",
    "    \"\"\"\n",
    "    return rs_decode(w, message_length)"
   ]
  },
  {
   "cell_type": "markdown",
   "id": "1c226588-0ebe-4856-ab0f-29f165b34f06",
   "metadata": {},
   "source": [
    "## Verifer compoments"
   ]
  },
  {
   "cell_type": "code",
   "execution_count": 14,
   "id": "830f1e4b-71ce-4e98-9ffa-2c249b3ed306",
   "metadata": {},
   "outputs": [],
   "source": [
    "def generate_random_vector(m, p):\n",
    "    \"\"\"\n",
    "    Generates a random vector r over the finite field Fp.\n",
    "    :param m: Sqrt of (deg(poly) + 1)\n",
    "    :return: Random vector r\n",
    "    \"\"\"\n",
    "    return [random.randint(0, p - 1) for _ in range(m)]\n",
    "\n",
    "def consistency_check(M, r, w, p, t):\n",
    "    \"\"\"\n",
    "    Verifier performs a consistency check on the columns of the matrix M.\n",
    "    :param M: Matrix M submitted by the Prover\n",
    "    :param r: Random vector r\n",
    "    :param w: Vector w submitted by the Prover\n",
    "    :param p: Prime number defining the finite field\n",
    "    :param t: Number of random columns to check\n",
    "    :return: True if consistent, otherwise False\n",
    "    \"\"\"\n",
    "    n = M.shape[1]  # number of columns of matrix\n",
    "\n",
    "    # Step 1: random pick columns\n",
    "    sampled_indices = random.sample(range(n), t)\n",
    "    print(f\"Randomly selected column indices: {sampled_indices}\")\n",
    "\n",
    "    # Step 2: consistency to each selected column\n",
    "    for i in sampled_indices:\n",
    "        # calculate r^T * M_i by verifier own\n",
    "        computed_wi = sum(r[j] * M[j][i] for j in range(len(r))) % p\n",
    "\n",
    "        # check computed_wi is equal to Prover's w[i]\n",
    "        if computed_wi != w[i]:\n",
    "            print(f\"Column {i} inconsistency: w[{i}] = {w[i]}, computed = {computed_wi}\")\n",
    "            return False\n",
    "\n",
    "    return True"
   ]
  },
  {
   "cell_type": "code",
   "execution_count": 15,
   "id": "b55fc68f-e050-4b47-8eda-ae2ee329361e",
   "metadata": {},
   "outputs": [],
   "source": [
    "def simulate_interaction(coefficients, z, m, n, p, t):\n",
    "    \"\"\"\n",
    "    Simulates the complete interaction between Prover and Verifier\n",
    "    :param m: Sqrt of (deg(poly) + 1)\n",
    "    :param n: encoded codeword length, also, number of columns in matrix M\n",
    "    :param t: Number of random columns to check\n",
    "    :return: the evaluation of p(z)\n",
    "    \"\"\"\n",
    "    ## Commitment Phase\n",
    "    # Step 1: Prover declares matrix M and evaluates the polynomial at point z\n",
    "    M = coefficient_to_rscode_matrix(coefficients, m, n, p)\n",
    "    # Badcase\n",
    "    # Then verifier will recive MBad to do the consistency_check\n",
    "    # MBad= coefficient_to_rscode_matrix([4, 7, 11, 5, 2, 8, 4, 9, 1], m, n, p)\n",
    "    print(f\"Prover declares matrix M:\\n {M}\")\n",
    "\n",
    "    # Step 2: Verifier generates a random vector r\n",
    "    r = generate_random_vector(m, p)\n",
    "    print(f\"Verifier generates random vector r: {r}\")\n",
    "\n",
    "    # Step 3: Prover computes w = r^T * M, decodes it, and returns message v\n",
    "    v = decode_w(compute_w(r, M, p))\n",
    "    print(f\"Prover send message : {v} to verifier\")\n",
    "\n",
    "    # Step 5: Verifier performs consistency check\n",
    "    w = rs_encode(v, n, p)\n",
    "    is_consistent = consistency_check(M, r, w, p, t)\n",
    "    print(f\"Consistency check result: {is_consistent}\")\n",
    "\n",
    "    ## Evaluation Phase\n",
    "    # Step 1: Calculate tensor form of point z which is public to all\n",
    "    a, b = tensor_form(z, len(coefficients), p)\n",
    "    print(a, b)\n",
    "\n",
    "    # Step 2: Prover calculate the left part of tensor product b*U*a which is b*U\n",
    "    v = decode_w(compute_w(b, M, p))  # Computes v' = b^T * M\n",
    "    print(f\"Prover send message : {v} to verifier\")\n",
    "\n",
    "    # Step 3: Verifier ckecks v_i == b * M_i by random select\n",
    "    w = rs_encode(v, n, p)\n",
    "    is_consistent = consistency_check(M, b, w, p, t)\n",
    "    print(\"Consistency check result:\", is_consistent)\n",
    "\n",
    "    # Step 4: Verifier calculate the rest part of of tensor product b*U*a which is (b*U)*a\n",
    "    evaluation = sum(v[i] * a[i] for i in range(len(a))) % p\n",
    "\n",
    "    return evaluation"
   ]
  },
  {
   "cell_type": "code",
   "execution_count": 16,
   "id": "c1a83673-0b10-4d5e-959d-59bef7886a67",
   "metadata": {},
   "outputs": [
    {
     "name": "stdout",
     "output_type": "stream",
     "text": [
      "Prover declares matrix M:\n",
      " [[ 3  7 11  7 45 40]\n",
      " [ 5  2  8 46 13  7]\n",
      " [ 4  9  1 29 36 36]]\n",
      "Verifier generates random vector r: [39, 9, 26]\n",
      "Prover send message : [31, 8, 10] to verifier\n",
      "Randomly selected column indices: [4, 5]\n",
      "Consistency check result: True\n",
      "[1, 5, 25] [1, 31, 21]\n",
      "Prover send message : [7, 23, 45] to verifier\n",
      "Randomly selected column indices: [3, 2]\n",
      "Consistency check result: True\n",
      "Final result: 25\n"
     ]
    }
   ],
   "source": [
    "# prime = 101\n",
    "# coefficients = generate_random_polynomial(prime, 8)\n",
    "result = simulate_interaction(coefficients, open_point, message_length, code_word_length , prime, sec_num)\n",
    "print(\"Final result:\", result)\n",
    "assert result == evaluate_polynomial(coefficients, open_point, prime)"
   ]
  },
  {
   "cell_type": "markdown",
   "id": "ada5d5cd-657c-4153-a55a-cac16801bbf8",
   "metadata": {},
   "source": [
    "## REF\n",
    "\n",
    "PAZK Chapter 10(https://people.cs.georgetown.edu/jthaler/ProofsArgsAndZK.pdf)"
   ]
  },
  {
   "cell_type": "markdown",
   "id": "2b4b46a1",
   "metadata": {},
   "source": []
  }
 ],
 "metadata": {
  "kernelspec": {
   "display_name": "Python 3 (ipykernel)",
   "language": "python",
   "name": "python3"
  },
  "language_info": {
   "codemirror_mode": {
    "name": "ipython",
    "version": 3
   },
   "file_extension": ".py",
   "mimetype": "text/x-python",
   "name": "python",
   "nbconvert_exporter": "python",
   "pygments_lexer": "ipython3",
   "version": "3.11.1"
  }
 },
 "nbformat": 4,
 "nbformat_minor": 5
}
