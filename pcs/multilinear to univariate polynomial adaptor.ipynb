{
 "cells": [
  {
   "cell_type": "markdown",
   "metadata": {},
   "source": [
    "In this document, we introduce adaptors for univariate polynomials to multivariate polynomials.\n",
    "Our goal is to express multivariate polynomials in terms of univariate polynomials, and then apply the polynomial commitment scheme for univariate polynomials to multivariate polynomial commitments.\n",
    "Below we introduce the transformation idea of zeromorph."
   ]
  },
  {
   "cell_type": "markdown",
   "metadata": {},
   "source": [
    "###  Univariate Polynomials and Multilinear Polynomials\n",
    "\n",
    "1. A univariate polynomial $f$ is defined over $\\mathbb{F}[X]$ with degree $d$.\n",
    "2. An MLE (Multilinear Extension) polynomial $\\tilde{f}$ is a class of Multivariate polynomials defined on the Boolean HyperCube $\\{0,1\\}^m$ over $\\mathbb{F}[X_0, ..., X_{m-1}]$. \n",
    "We call $m$ the dimension of the polynomial $\\tilde{f}$.\n",
    "The degree of any variable in each term does not exceed 1, ie, $deg(\\tilde{f}) \\leq 1$. "
   ]
  },
  {
   "cell_type": "markdown",
   "metadata": {},
   "source": [
    "### Uni Map to Multi\n",
    "In order to map a multivariate polynomial $\\tilde{f}$ to a univariate polynomial $f$, we need to care about the degree of the polynomial.\n",
    "we want to map $\\tilde{f}$ over $\\mathbb{F}[X_0, ..., X_{m-1}]$ to $f$ with degree $d = 2^m-1$.\n",
    "We use $U_m$ to denote this homomorphic map.\n",
    "$U_m$ maps $\\tilde{f}$ to $f$ in this way: the evaluation of $\\tilde{f}$ at the point $\\tilde{i}$ is mapped to the $i$-th the coefficient of univariate polynomials on $\\mathbb{F}$, where $\\tilde{i}$ is the binary representation(lower bits first) of $i$.\n",
    "As described in zeromorph, $U_m$ is an additional homomorphism.\n",
    "\n",
    "Take a $2$-dimension multipolynomial $\\tilde{f}(X_0, X_1) = 1+X_1+ X_0X_1$ as an example. \n",
    "All the evaluations of $\\tilde{f}$ are:\n",
    "$$\\tilde{f}(0,0) = 1 \\\\\n",
    "\\tilde{f}(1,0) = 1 \\\\\n",
    "\\tilde{f}(0,1) = 2 \\\\\n",
    "\\tilde{f}(1,1) = 3.$$ \n",
    "Then we can obtain $U_m(\\tilde{f}) = f(X) = 1 + 1\\cdot X + 2 \\cdot X^2 + 3 \\cdot X^3$."
   ]
  },
  {
   "cell_type": "markdown",
   "metadata": {},
   "source": [
    "\n",
    "#### Special Cases\n",
    "For a constant multivariate polynomial\n",
    "$\\tilde{f}(X_0,..., X_m) = c$, it maps to $U_m(\\tilde{f}) = f(X) = c(1+X+...+X^{d})$, where $d = 2^m-1$, $c \\in \\mathbb{F}$.\n",
    "We can see that every coefficient of $f$ is $c$, because $\\tilde{f}$ evaluates to $c$ at every point.\n",
    "Denote $\\Phi_m(X) = 1+X+...+X^{d}$, we have $U_m(c) = c \\cdot \\Phi_m(X)$.\n",
    "\n",
    "The second special case is mapping the polynomial $\\tilde{p}$ in $k$ variables, where $0 \\leq k < m$, to a univariate polynomial of degree $d=2^m-1$. \n",
    "Namely, we want to see what $U_m(\\tilde{p})$ looks like.\n",
    "For a $k$-variate polynomial $\\tilde{p}$, where $0\\leq k<m$, we have $U_k(\\tilde{p}) = p(X)$. \n",
    "Note that $deg(p) = 2^k-1$ which does not satisfy our requirment. \n",
    "Then we define $U_m(\\tilde{p}) = \\Phi_{m-k}(X^k) p(X)$. \n"
   ]
  },
  {
   "cell_type": "markdown",
   "metadata": {},
   "source": [
    "#### The Polynomial Remainder\n",
    "\n",
    "In polynomial commitment schemes, we need to commit to a polynomial $ f $ and prove that the evaluation of $ p $ at a point $ u \\in \\mathbb{F} $ is $ v $, i.e., $ f(u) = v $. This is typically achieved by proving the existence of a quotient polynomial/remainder polynomial $ q(X) $, such that\n",
    "$$ f(X) - f(u) = q(X) \\cdot (X - u). $$\n",
    "\n",
    "In the case of a multivariate polynomial $ \\tilde{f}(\\vec{u}) = v $, the above equation becomes\n",
    "$$ \\begin{align*} \\tilde{f}(X_0, \\ldots, X_{m-1}) - \\tilde{f}(\\vec{u}) = \\sum_{k=0}^{m-1} (X_k - u_k) \\tilde{q}_k(X_0, \\ldots, X_{k-1}). \\end{align*}$$\n",
    "\n",
    "When we want to use a univariate polynomial commitment scheme to prove the evaluation of a multivariate polynomial, we need to apply a linear homomorphism $U_m$ to the above equation.\n",
    "$$ \\begin{align*} U_m(\\tilde{f}(X_0, \\ldots, X_{m-1}) - \\tilde{f}(\\vec{u})) = U_m(\\sum_{k=0}^{m-1} (X_k - u_k) \\tilde{q}_k(X_0, \\ldots, X_{k-1})). \\end{align*}$$"
   ]
  },
  {
   "cell_type": "markdown",
   "metadata": {},
   "source": [
    "##### Left Side\n",
    "Since $v=\\tilde{f}(\\vec{u})$, the left-hand side is \n",
    "$$ \\begin{align*}\n",
    "&U_m(\\tilde{f}(X_0, \\ldots, X_{m-1}) - \\tilde{f}(\\vec{u})) \\\\\n",
    "&= U_m(\\tilde{f}(X_0, \\ldots, X_{m-1})) - U_m(\\tilde{f}(\\vec{u})) \\\\ \n",
    "&= f(X) - v\\cdot \\Phi_{m}(X)\n",
    "\\end{align*}\n",
    "$$\n"
   ]
  },
  {
   "cell_type": "markdown",
   "metadata": {},
   "source": [
    "##### Right Side\n",
    "Due to the additive homomorphism property of $U_m$, the right-hand side can be written as\n",
    "$$\\begin{align*} &U_m(\\sum_{k=0}^{m-1} (X_k - u_k) \\tilde{q}_k(X_0, \\ldots, X_{k-1}))\\\\\n",
    "& = U_m(\\sum_{k=0}^{m-1} X_k  \\tilde{q}_k(X_0, \\ldots, X_{k-1})- u_k \\cdot \\tilde{q}_k(X_0, \\ldots, X_{k-1}))\\\\\n",
    "& = \\sum_{k=0}^{m-1} (U_m(X_k  \\tilde{q}_k(X_0, \\ldots, X_{k-1}))- U_m(u_k \\cdot \\tilde{q}_k(X_0, \\ldots, X_{k-1}))). \n",
    "\\end{align*}$$\n",
    "\n",
    "Recall that $U_m(\\cdot \\tilde{q}_k(X_0, \\ldots, X_{k-1})) = \\Phi(X) U_k(\\tilde{q}_k)$, the term $U_m(u_k \\cdot \\tilde{q}_k(X_0, \\ldots, X_{k-1})) = u_k \\Phi_{m-k}(X^{k}) U_k(\\tilde{q}_k) = u_k \\Phi_{m-k}(X^{k}) q_k(X)$.\n",
    "\n",
    "As for $X_k \\tilde{q}_k(X_0, \\ldots, X_{k-1})$, this is a polynomial with the number of variables $k$. To map to a univariate polynomial of degree $d$, we use $\\Phi_{m-k-1}(k+1)$.\n",
    "\n",
    "So we have $$U_m(X_k \\tilde{q}_k(X_0, \\ldots, X_{k-1})) \\\\= X^{2^k}\\Phi_{m-k-1}(k+1)U_k(\\tilde{q}_k) \\\\= X^{2^k}\\Phi_{m-k-1}(k+1)q_k(X).$$"
   ]
  },
  {
   "cell_type": "markdown",
   "metadata": {},
   "source": [
    "##### The Final Equation\n",
    "\n",
    "By combining the transformation equations from both sides, we can derive a final equation concerning a univariate polynomial:\n",
    "\n",
    "$$\\begin{align}f(X) - v\\cdot \\Phi_{m}(X) = \\sum X^{2^k}\\Phi_{m-k-1}(k+1)q_k(X) -u_k \\Phi_{m-k}(X^{k}) {q}_k(X)\\end{align}$$\n",
    "\n",
    "### PCS\n",
    "\n",
    "Based on the final equation above, we can construct a polynomial commitment from a multivariate polynomial to a univariate polynomial. Here we briefly describe the construction idea.\n",
    "\n",
    "In this PCS, the prover needs to commit to the multivariate polynomial $\\tilde{f}$, while sending the point $\\vec{u}$ and the evaluation $v$.\n",
    "To prove the correctness of the evaluation, the prover calculates $m$ remainder polynomials $q_0, ...q_{m-1}$ and sends the commitments of $\\{q_k\\}_{k \\in [m]}$.\n",
    "Subsequently, the prover interact with the verifier to prove the equation (1), as well as that each remainder polynomial $q_k$ has a degree less than $2^k$."
   ]
  }
 ],
 "metadata": {
  "language_info": {
   "name": "python"
  }
 },
 "nbformat": 4,
 "nbformat_minor": 2
}
