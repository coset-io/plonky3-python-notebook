{
 "cells": [
  {
   "cell_type": "markdown",
   "metadata": {},
   "source": [
    "There is no existing PCS adaptor that transforms univariate polynomials to multivariate ones. \n",
    "Instead, we introduce a method from logarithmic derivative that is general to both univariate and multivariate polynomials."
   ]
  },
  {
   "cell_type": "markdown",
   "metadata": {},
   "source": [
    "### Logarithmic derivative\n",
    "The logarithmic derivative of a polynomial $p(X)$ over a (general) field $\\mathbb{F}$ is the rational function\n",
    "$$\n",
    "\\frac{p'(X)}{p(X)}.\n",
    "$$\n",
    "\n",
    "In particular, the logarithmic derivative of a product $p(X) = \\prod_{i=1}^{n}(X + z_i)$, with each $z_i \\in \\mathbb{F}$, is equal to the sum\n",
    "$$\n",
    "\\frac{p'(X)}{p(X)} = \\sum_{i=1}^{n} \\frac{1}{X + z_i}.\n",
    "$$\n",
    "\n",
    "#### Permutation argument\n",
    "The following lemma is a simple consequence of Lemma 2 and essentially states that, under quite mild conditions on the field $\\mathbb{F}$, if two normalized polynomials have the same logarithmic derivative then they are equal.\n",
    "\n",
    "Lemma 1. Let $(a_i)_{i=1}^{n}$ and $(b_i)_{i=1}^{n}$ be sequences over a field \\mathbb{F} with characteristic $p > n$. Then $\\prod_{i=1}^{n} (X + a_i) = \\prod_{i=1}^{n} (X + b_i)$ in $\\mathbb{F}[X]$ if and only if\n",
    "$$\n",
    "\\sum_{i=1}^{n} \\frac{1}{X + a_i} = \\sum_{i=1}^{n} \\frac{1}{X + b_i}\n",
    "$$\n",
    "in the rational function field $\\mathbb{F}(X)$.\n",
    "\n",
    "We can observe that, if $(b_i)_{i=1}^{n}$ is a permutation of $(a_i)_{i=1}^{n}$, then the left and right sides of this should be the same.\n",
    "This is useful in the permutation arguments.\n",
    "\n",
    "\n",
    "#### Lookup argument\n",
    "Lemma 2 [Set inclusion]. Let \\mathbb{F} be a field of characteristic $p > N$, and suppose that $(a_i)_{i=1}^{N}$, $(b_i)_{i=1}^{N}$ are arbitrary sequences of field elements. Then $\\{a_i\\} \\subseteq \\{b_i\\}$ as sets (with multiples of values removed), if and only if there exists a sequence $(m_i)_{i=1}^{N}$ of field elements from $\\mathbb{F}_q \\subseteq \\mathbb{F}$ such that\n",
    "$$\n",
    "\\sum_{i=1}^{N} \\frac{1}{X + a_i} = \\sum_{i=1}^{N} \\frac{m_i}{X + b_i}\n",
    "$$\n",
    "in the function field $F(X)$. Moreover, we have equality of the sets $\\{a_i\\} = \\{b_i\\}$, if and only if $m_i \\neq 0$, for every $i = 1, \\dots, N$.\n",
    "\n",
    "We can think of $\\{b_i\\}$ as a lookup table, and $\\{a_i\\}$ as the elements of the subtable. If some element $b_j$appears in the subtable, then $m_j\\geq 1$, $m_j$denotes the number of occurrences of $b_j$."
   ]
  },
  {
   "cell_type": "markdown",
   "metadata": {},
   "source": [
    "### Lookups based on the logarithmic derivative\n",
    "\n",
    "For a lookup table $T $ and a subtable $F$, we interpolation them into multilinear polynomials $t(\\vec{X}), f(\\vec{X})$.\n",
    "\n",
    "Assume that $\\mathbb{F}$ is a finite field, and that $f$ and $t : H \\to \\mathbb{F}$ are functions over the Boolean hypercube $H = \\{ \\pm 1 \\}^n$. \n",
    "By Lemma 2, it holds that \n",
    "$$\n",
    "\\{ f(\\vec{x}) \\}_{x \\in H} \\subseteq \\{ t(\\vec{x}) \\}_{x \\in H}\n",
    "$$\n",
    "as sets, if and only if there exists a function $m : H \\to F$ such that\n",
    "$$\n",
    "\\sum_{\\vec{x} \\in H} \\frac{1}{X + f(\\vec{x})} = \\sum_{\\vec{x} \\in H} \\frac{m(\\vec{x})}{X + t(\\vec{x})},\n",
    "$$\n",
    "here $t$ is injective (which is typically the case for lookup tables) then $m$ is the multiplicity function, counting the number of occurrences for each value $t(\\vec{x})$ in $f$ altogether, i.e. \n",
    "$$\n",
    "m(\\vec{x}) = m_f(t(\\vec{x})) = |\\{ \\vec{y} \\in H : f(\\vec{y}) = t(\\vec{x}) \\}|.\n",
    "$$\n",
    "\n",
    "Given a random challenge $\\alpha \\gets \\mathbb{F}$ from the verifier, the prover shows that the rational identity (13) holds at $X = \\alpha$, i.e.\n",
    "$$\n",
    "\\sum_{\\vec{x} \\in H} \\frac{1}{\\alpha + f(\\vec{x})} - \\frac{m(\\vec{x})}{\\alpha + t(\\vec{x})} = 0. $$"
   ]
  }
 ],
 "metadata": {
  "language_info": {
   "name": "python"
  }
 },
 "nbformat": 4,
 "nbformat_minor": 2
}
